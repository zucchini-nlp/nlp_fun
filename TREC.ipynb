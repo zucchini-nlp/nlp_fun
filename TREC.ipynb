{
  "cells": [
    {
      "cell_type": "code",
      "source": [
        "from tqdm import tqdm"
      ],
      "metadata": {
        "id": "8dx3sUUCDd9N"
      },
      "execution_count": null,
      "outputs": []
    },
    {
      "cell_type": "code",
      "source": [
        "import torch\n",
        "import torch.nn as nn\n",
        "import torch.nn.functional as F\n",
        "from torchtext.vocab import Vocab\n",
        "from torchtext import datasets\n",
        "from torchtext.legacy.data import Field, LabelField, BucketIterator\n",
        "from torchtext.legacy.datasets import TREC"
      ],
      "metadata": {
        "id": "JGov_Ey5PnA-"
      },
      "execution_count": 1,
      "outputs": []
    },
    {
      "cell_type": "code",
      "source": [
        "text = Field(sequential = True, tokenize = \"spacy\", tokenizer_language=\"en\", lower=True, batch_first=True, include_lengths = True)\n",
        "target = LabelField()"
      ],
      "metadata": {
        "id": "ghuMoaCYP-bf"
      },
      "execution_count": 157,
      "outputs": []
    },
    {
      "cell_type": "code",
      "source": [
        "train_data, test_data = TREC.splits(text_field = text, label_field = target)\n",
        "train_data, val_data = train_data.split(split_ratio = 0.8)"
      ],
      "metadata": {
        "id": "kbMQRjSpP-e7"
      },
      "execution_count": 158,
      "outputs": []
    },
    {
      "cell_type": "code",
      "source": [
        "text.build_vocab(train_data, max_size = 10000, min_freq = 2, vectors = \"glove.6B.50d\")"
      ],
      "metadata": {
        "id": "4VA8v-4vd3hj"
      },
      "execution_count": 159,
      "outputs": []
    },
    {
      "cell_type": "code",
      "source": [
        "target.build_vocab(train_data)"
      ],
      "metadata": {
        "id": "A1ETwgmWd4EG"
      },
      "execution_count": 160,
      "outputs": []
    },
    {
      "cell_type": "code",
      "source": [
        "vocab_size = len(text.vocab)\n",
        "num_classes = len(target.vocab)"
      ],
      "metadata": {
        "id": "rs3fxltvP-uv"
      },
      "execution_count": 161,
      "outputs": []
    },
    {
      "cell_type": "code",
      "source": [
        "vocab_size"
      ],
      "metadata": {
        "colab": {
          "base_uri": "https://localhost:8080/"
        },
        "id": "C2NLjd_OiBPq",
        "outputId": "149ae0fd-ff8f-46ac-ec52-631cc016676a"
      },
      "execution_count": 162,
      "outputs": [
        {
          "output_type": "execute_result",
          "data": {
            "text/plain": [
              "2963"
            ]
          },
          "metadata": {},
          "execution_count": 162
        }
      ]
    },
    {
      "cell_type": "code",
      "source": [
        "# An example from train data\n",
        "print(train_data[0].text, train_data[0].label)"
      ],
      "metadata": {
        "colab": {
          "base_uri": "https://localhost:8080/"
        },
        "id": "bj0_46NrP-1E",
        "outputId": "11e3f07d-275e-4fcb-9de6-5964fc50631c"
      },
      "execution_count": null,
      "outputs": [
        {
          "output_type": "stream",
          "name": "stdout",
          "text": [
            "['how', 'can', 'i', 'get', 'someone', \"'s\", 'email', 'address', '?'] DESC\n"
          ]
        }
      ]
    },
    {
      "cell_type": "markdown",
      "source": [
        "Dataset labels description:\n",
        "\n",
        "*   HUM for questions about humans\n",
        "*   ENTY for questions about entities\n",
        "*   DESC for questions asking you for a description\n",
        "*   NUM for questions where the answer is numerical\n",
        "*   LOC for questions where the answer is a location\n",
        "*   ABBR for questions asking about abbreviations"
      ],
      "metadata": {
        "id": "WJW-dUFtjGcV"
      }
    },
    {
      "cell_type": "code",
      "source": [
        "device = \"cuda\" if torch.cuda.is_available() else \"cpu\""
      ],
      "metadata": {
        "id": "5uQLAU0IP-6c"
      },
      "execution_count": 11,
      "outputs": []
    },
    {
      "cell_type": "code",
      "source": [
        "train_iter, val_iter, test_iter = BucketIterator.splits(\n",
        "                                                  (train_data, val_data, test_data), \n",
        "                                                  batch_size = 32, \n",
        "                                                  sort_key=lambda x:len(x.text),\n",
        "                                                  sort_within_batch=True,\n",
        "                                                  shuffle=True,\n",
        "                                                  device = device,\n",
        "                                                  sort=False)"
      ],
      "metadata": {
        "id": "xn6HAN35P-9h"
      },
      "execution_count": 163,
      "outputs": []
    },
    {
      "cell_type": "code",
      "execution_count": 164,
      "metadata": {
        "id": "U5TfgqlNPODH"
      },
      "outputs": [],
      "source": [
        "class TREC_model(nn.Module):\n",
        "\n",
        "    def __init__(self, vocab_size, embed_dim, num_classes, hidden_dim, num_layers, drop):\n",
        "        super().__init__()\n",
        "        self.vocab_size = vocab_size\n",
        "        self.embed_dim = embed_dim\n",
        "        self.num_classes = num_classes\n",
        "        self.hidden_dim = hidden_dim\n",
        "        self.num_layers = num_layers\n",
        "        self.drop = drop\n",
        "\n",
        "        self.dropout = nn.Dropout(self.drop)\n",
        "        self.embedding = nn.Embedding(vocab_size, embed_dim)\n",
        "        self.lstm = nn.LSTM(embed_dim, hidden_dim, num_layers, batch_first = True)\n",
        "        self.fc = nn.Linear(hidden_dim, num_classes)\n",
        "        self.softmax = nn.Softmax()\n",
        "        self.relu = nn.ReLU()\n",
        "\n",
        "    def init_weights(self):\n",
        "        hidden_s = torch.zeros(self.num_layers, self.batch_size, self.hidden_dim)\n",
        "        cell_s = torch.zeros(self.num_layers, self.batch_size, self.hidden_dim)\n",
        "\n",
        "    def forward(self, text, hidden, lengths):\n",
        "\n",
        "        embedded = self.embedding(text)\n",
        "        packed = nn.utils.rnn.pack_padded_sequence(embedded, lengths, batch_first=True).to(device)\n",
        "        out, (h, c) = self.lstm(packed, hidden)\n",
        "        unpacked, len = nn.utils.rnn.pad_packed_sequence(out, batch_first = True)\n",
        "        \n",
        "        out = self.dropout(unpacked[:, -1, :])\n",
        "        out = self.relu(out)\n",
        "        out = self.fc(out)\n",
        "\n",
        "        return out"
      ]
    },
    {
      "cell_type": "code",
      "source": [
        "embed_dim = 50\n",
        "hidden_dim = 64\n",
        "num_layers = 2\n",
        "drop = 0.5\n",
        "lr = 0.001\n",
        "\n",
        "model = TREC_model(vocab_size, embed_dim, num_classes, hidden_dim, num_layers, drop).to(device)\n",
        "optimizer = torch.optim.Adam(model.parameters(), lr = lr)\n",
        "# scheduler = torch.optim.lr_scheduler.StepLR(optimizer, step_size = 10, gamma = 0.5)"
      ],
      "metadata": {
        "id": "Tsr7kShGlor5"
      },
      "execution_count": 178,
      "outputs": []
    },
    {
      "cell_type": "code",
      "source": [
        "model.embedding.weight.data.copy_(text.vocab.vectors)"
      ],
      "metadata": {
        "colab": {
          "base_uri": "https://localhost:8080/"
        },
        "id": "vEifQxlzni5E",
        "outputId": "258b9918-a962-4ca6-c441-1b1b09479f35"
      },
      "execution_count": 179,
      "outputs": [
        {
          "output_type": "execute_result",
          "data": {
            "text/plain": [
              "tensor([[ 0.0000,  0.0000,  0.0000,  ...,  0.0000,  0.0000,  0.0000],\n",
              "        [ 0.0000,  0.0000,  0.0000,  ...,  0.0000,  0.0000,  0.0000],\n",
              "        [-0.1458,  0.5046,  0.0475,  ..., -0.4147,  0.1105,  1.1681],\n",
              "        ...,\n",
              "        [-0.0052,  0.4748,  0.8903,  ...,  0.2017,  0.4701,  0.4411],\n",
              "        [-0.5441,  1.0104, -0.4419,  ...,  0.4079,  0.4635, -1.7831],\n",
              "        [-0.0263,  0.0535, -0.0091,  ..., -0.0457, -0.3948,  0.1020]])"
            ]
          },
          "metadata": {},
          "execution_count": 179
        }
      ]
    },
    {
      "cell_type": "code",
      "source": [
        "criterion = nn.CrossEntropyLoss().to(device)"
      ],
      "metadata": {
        "id": "IRre2Gt3njYS"
      },
      "execution_count": 15,
      "outputs": []
    },
    {
      "cell_type": "code",
      "source": [
        "def accuracy(pred, label):\n",
        "  return (pred.argmax(1) == label).sum().float()/label.shape[0]"
      ],
      "metadata": {
        "id": "QmzYWHPopxmW"
      },
      "execution_count": 16,
      "outputs": []
    },
    {
      "cell_type": "code",
      "source": [
        "accuracies = []\n",
        "losses = []\n",
        "\n",
        "def train_model(model, iter, optimizer, criterion):\n",
        "\n",
        "    epoch_loss = 0\n",
        "    epoch_acc = 0\n",
        "    model.train()\n",
        "\n",
        "    for batch in iter:\n",
        "\n",
        "      optimizer.zero_grad()\n",
        "      batch_size = len(batch.label)\n",
        "      hidden_s = torch.zeros(num_layers, batch_size, hidden_dim)\n",
        "      cell_s = torch.zeros(num_layers, batch_size, hidden_dim)\n",
        "      \n",
        "      pred = model(batch.text[0], (hidden_s, cell_s), batch.text[1])\n",
        "      loss = criterion(pred.type(torch.FloatTensor), batch.label)\n",
        "      accuracy_ = accuracy(pred, batch.label)\n",
        "\n",
        "      loss.backward()\n",
        "      nn.utils.clip_grad_norm_(model.parameters(), 5)\n",
        "      optimizer.step()\n",
        "      \n",
        "      epoch_loss += loss.item()\n",
        "      epoch_acc += accuracy_.item()\n",
        "    \n",
        "    # scheduler.step()\n",
        "\n",
        "    return epoch_loss/len(iter), epoch_acc/len(iter)*100"
      ],
      "metadata": {
        "id": "yRiV6H2Honor"
      },
      "execution_count": 180,
      "outputs": []
    },
    {
      "cell_type": "code",
      "source": [
        "accuracies_val = []\n",
        "losses_val = []\n",
        "\n",
        "def evaluate(model, iterator, criterion):\n",
        "  epoch_loss = 0\n",
        "  epoch_acc = 0\n",
        "\n",
        "  model.eval()\n",
        "\n",
        "  with torch.no_grad():\n",
        "    \n",
        "    for batch in iterator :\n",
        "\n",
        "      batch_size = len(batch.label)\n",
        "      hidden_s = torch.zeros(num_layers, batch_size, hidden_dim)\n",
        "      cell_s = torch.zeros(num_layers, batch_size, hidden_dim)\n",
        "      \n",
        "      pred = model(batch.text[0], (hidden_s, cell_s), batch.text[1])\n",
        "      \n",
        "      loss = criterion(pred.type(torch.FloatTensor), batch.label)\n",
        "      acc = accuracy(pred, batch.label)\n",
        "\n",
        "      epoch_loss += loss.item()\n",
        "      epoch_acc += acc.item()\n",
        "\n",
        "  return epoch_loss / len(iterator), epoch_acc / len(iterator) * 100"
      ],
      "metadata": {
        "id": "bQwFy_4JCsG8"
      },
      "execution_count": 181,
      "outputs": []
    },
    {
      "cell_type": "code",
      "source": [
        "epochs = 50\n",
        "\n",
        "for epoch in range(epochs):\n",
        "\n",
        "    loss_tr, acc_tr = train_model(model, train_iter,optimizer, criterion)\n",
        "    loss_val, acc_val = evaluate(model, test_iter, criterion)\n",
        "\n",
        "    losses.append(loss_tr)\n",
        "    accuracies.append(acc_tr)\n",
        "    losses_val.append(loss_val)\n",
        "    accuracies_val.append(acc_val)\n",
        "\n",
        "    print(f'Epoch: {epoch+1:02}')\n",
        "    print(f'\\tTrain Loss: {loss_tr:.3f} | Train Acc: {acc_tr:.2f}%')\n",
        "    print(f'\\tVal. Loss: {loss_val:.3f} |  Val. Acc: {acc_val:.2f}%')"
      ],
      "metadata": {
        "colab": {
          "base_uri": "https://localhost:8080/"
        },
        "id": "3TQ2ifSCoMzn",
        "outputId": "faf29792-2fa6-4935-cee4-da553dab6e29"
      },
      "execution_count": 182,
      "outputs": [
        {
          "output_type": "stream",
          "name": "stdout",
          "text": [
            "Epoch: 01\n",
            "\tTrain Loss: 1.637 | Train Acc: 29.94%\n",
            "\tVal. Loss: 1.410 |  Val. Acc: 44.65%\n",
            "Epoch: 02\n",
            "\tTrain Loss: 1.147 | Train Acc: 58.35%\n",
            "\tVal. Loss: 1.039 |  Val. Acc: 63.87%\n",
            "Epoch: 03\n",
            "\tTrain Loss: 0.949 | Train Acc: 66.67%\n",
            "\tVal. Loss: 0.938 |  Val. Acc: 65.04%\n",
            "Epoch: 04\n",
            "\tTrain Loss: 0.821 | Train Acc: 70.45%\n",
            "\tVal. Loss: 0.857 |  Val. Acc: 66.02%\n",
            "Epoch: 05\n",
            "\tTrain Loss: 0.731 | Train Acc: 73.91%\n",
            "\tVal. Loss: 0.799 |  Val. Acc: 67.58%\n",
            "Epoch: 06\n",
            "\tTrain Loss: 0.679 | Train Acc: 75.69%\n",
            "\tVal. Loss: 0.799 |  Val. Acc: 65.62%\n",
            "Epoch: 07\n",
            "\tTrain Loss: 0.590 | Train Acc: 79.49%\n",
            "\tVal. Loss: 0.784 |  Val. Acc: 71.45%\n",
            "Epoch: 08\n",
            "\tTrain Loss: 0.596 | Train Acc: 79.91%\n",
            "\tVal. Loss: 0.743 |  Val. Acc: 70.94%\n",
            "Epoch: 09\n",
            "\tTrain Loss: 0.541 | Train Acc: 81.14%\n",
            "\tVal. Loss: 0.724 |  Val. Acc: 71.05%\n",
            "Epoch: 10\n",
            "\tTrain Loss: 0.492 | Train Acc: 83.94%\n",
            "\tVal. Loss: 0.768 |  Val. Acc: 68.91%\n",
            "Epoch: 11\n",
            "\tTrain Loss: 0.460 | Train Acc: 84.60%\n",
            "\tVal. Loss: 0.707 |  Val. Acc: 71.52%\n",
            "Epoch: 12\n",
            "\tTrain Loss: 0.451 | Train Acc: 84.79%\n",
            "\tVal. Loss: 0.729 |  Val. Acc: 70.47%\n",
            "Epoch: 13\n",
            "\tTrain Loss: 0.439 | Train Acc: 85.20%\n",
            "\tVal. Loss: 0.737 |  Val. Acc: 72.03%\n",
            "Epoch: 14\n",
            "\tTrain Loss: 0.414 | Train Acc: 85.89%\n",
            "\tVal. Loss: 0.733 |  Val. Acc: 72.42%\n",
            "Epoch: 15\n",
            "\tTrain Loss: 0.449 | Train Acc: 84.06%\n",
            "\tVal. Loss: 0.719 |  Val. Acc: 72.89%\n",
            "Epoch: 16\n",
            "\tTrain Loss: 0.391 | Train Acc: 86.52%\n",
            "\tVal. Loss: 0.777 |  Val. Acc: 72.42%\n",
            "Epoch: 17\n",
            "\tTrain Loss: 0.406 | Train Acc: 85.34%\n",
            "\tVal. Loss: 0.762 |  Val. Acc: 70.94%\n",
            "Epoch: 18\n",
            "\tTrain Loss: 0.383 | Train Acc: 86.76%\n",
            "\tVal. Loss: 0.772 |  Val. Acc: 72.70%\n",
            "Epoch: 19\n",
            "\tTrain Loss: 0.336 | Train Acc: 88.95%\n",
            "\tVal. Loss: 0.815 |  Val. Acc: 71.33%\n",
            "Epoch: 20\n",
            "\tTrain Loss: 0.391 | Train Acc: 86.39%\n",
            "\tVal. Loss: 0.755 |  Val. Acc: 72.42%\n",
            "Epoch: 21\n",
            "\tTrain Loss: 0.325 | Train Acc: 88.71%\n",
            "\tVal. Loss: 0.779 |  Val. Acc: 71.91%\n",
            "Epoch: 22\n",
            "\tTrain Loss: 0.351 | Train Acc: 87.50%\n",
            "\tVal. Loss: 0.871 |  Val. Acc: 70.74%\n",
            "Epoch: 23\n",
            "\tTrain Loss: 0.335 | Train Acc: 87.40%\n",
            "\tVal. Loss: 0.858 |  Val. Acc: 70.55%\n",
            "Epoch: 24\n",
            "\tTrain Loss: 0.335 | Train Acc: 88.00%\n",
            "\tVal. Loss: 0.753 |  Val. Acc: 73.87%\n",
            "Epoch: 25\n",
            "\tTrain Loss: 0.300 | Train Acc: 89.55%\n",
            "\tVal. Loss: 0.762 |  Val. Acc: 72.50%\n",
            "Epoch: 26\n",
            "\tTrain Loss: 0.319 | Train Acc: 88.68%\n",
            "\tVal. Loss: 0.806 |  Val. Acc: 72.70%\n",
            "Epoch: 27\n",
            "\tTrain Loss: 0.324 | Train Acc: 88.13%\n",
            "\tVal. Loss: 0.800 |  Val. Acc: 72.89%\n",
            "Epoch: 28\n",
            "\tTrain Loss: 0.283 | Train Acc: 89.51%\n",
            "\tVal. Loss: 0.780 |  Val. Acc: 73.48%\n",
            "Epoch: 29\n",
            "\tTrain Loss: 0.309 | Train Acc: 88.42%\n",
            "\tVal. Loss: 0.889 |  Val. Acc: 72.23%\n",
            "Epoch: 30\n",
            "\tTrain Loss: 0.333 | Train Acc: 87.12%\n",
            "\tVal. Loss: 0.799 |  Val. Acc: 73.79%\n",
            "Epoch: 31\n",
            "\tTrain Loss: 0.323 | Train Acc: 87.34%\n",
            "\tVal. Loss: 0.828 |  Val. Acc: 71.13%\n",
            "Epoch: 32\n",
            "\tTrain Loss: 0.293 | Train Acc: 88.56%\n",
            "\tVal. Loss: 0.840 |  Val. Acc: 72.30%\n",
            "Epoch: 33\n",
            "\tTrain Loss: 0.304 | Train Acc: 88.14%\n",
            "\tVal. Loss: 0.823 |  Val. Acc: 72.81%\n",
            "Epoch: 34\n",
            "\tTrain Loss: 0.286 | Train Acc: 88.94%\n",
            "\tVal. Loss: 0.754 |  Val. Acc: 73.79%\n",
            "Epoch: 35\n",
            "\tTrain Loss: 0.281 | Train Acc: 88.82%\n",
            "\tVal. Loss: 0.841 |  Val. Acc: 73.67%\n",
            "Epoch: 36\n",
            "\tTrain Loss: 0.279 | Train Acc: 89.11%\n",
            "\tVal. Loss: 0.831 |  Val. Acc: 72.89%\n",
            "Epoch: 37\n",
            "\tTrain Loss: 0.260 | Train Acc: 89.68%\n",
            "\tVal. Loss: 0.801 |  Val. Acc: 74.38%\n",
            "Epoch: 38\n",
            "\tTrain Loss: 0.277 | Train Acc: 89.54%\n",
            "\tVal. Loss: 0.933 |  Val. Acc: 72.30%\n",
            "Epoch: 39\n",
            "\tTrain Loss: 0.271 | Train Acc: 89.31%\n",
            "\tVal. Loss: 0.824 |  Val. Acc: 72.30%\n",
            "Epoch: 40\n",
            "\tTrain Loss: 0.301 | Train Acc: 87.89%\n",
            "\tVal. Loss: 0.844 |  Val. Acc: 72.50%\n",
            "Epoch: 41\n",
            "\tTrain Loss: 0.295 | Train Acc: 87.97%\n",
            "\tVal. Loss: 0.810 |  Val. Acc: 72.89%\n",
            "Epoch: 42\n",
            "\tTrain Loss: 0.269 | Train Acc: 89.12%\n",
            "\tVal. Loss: 0.825 |  Val. Acc: 73.87%\n",
            "Epoch: 43\n",
            "\tTrain Loss: 0.282 | Train Acc: 88.61%\n",
            "\tVal. Loss: 0.833 |  Val. Acc: 72.11%\n",
            "Epoch: 44\n",
            "\tTrain Loss: 0.254 | Train Acc: 89.54%\n",
            "\tVal. Loss: 0.879 |  Val. Acc: 73.09%\n",
            "Epoch: 45\n",
            "\tTrain Loss: 0.278 | Train Acc: 88.75%\n",
            "\tVal. Loss: 0.846 |  Val. Acc: 73.09%\n",
            "Epoch: 46\n",
            "\tTrain Loss: 0.287 | Train Acc: 88.47%\n",
            "\tVal. Loss: 0.903 |  Val. Acc: 72.70%\n",
            "Epoch: 47\n",
            "\tTrain Loss: 0.265 | Train Acc: 88.94%\n",
            "\tVal. Loss: 0.798 |  Val. Acc: 74.45%\n",
            "Epoch: 48\n",
            "\tTrain Loss: 0.265 | Train Acc: 89.13%\n",
            "\tVal. Loss: 0.844 |  Val. Acc: 73.87%\n",
            "Epoch: 49\n",
            "\tTrain Loss: 0.270 | Train Acc: 88.83%\n",
            "\tVal. Loss: 0.888 |  Val. Acc: 72.81%\n",
            "Epoch: 50\n",
            "\tTrain Loss: 0.246 | Train Acc: 90.25%\n",
            "\tVal. Loss: 0.856 |  Val. Acc: 73.48%\n"
          ]
        }
      ]
    },
    {
      "cell_type": "code",
      "source": [
        "loss_test, acc_test = evaluate(model, test_iter, criterion)\n",
        "print(f' Test. Loss: {loss_test:.3f} |  Test. Acc: {acc_test:.2f}%')"
      ],
      "metadata": {
        "colab": {
          "base_uri": "https://localhost:8080/"
        },
        "id": "zjQuPJIjCtcD",
        "outputId": "09d40bd5-ace7-4bed-ffe5-402019ba9708"
      },
      "execution_count": 183,
      "outputs": [
        {
          "output_type": "stream",
          "name": "stdout",
          "text": [
            " Test. Loss: 0.834 |  Test. Acc: 73.48%\n"
          ]
        }
      ]
    },
    {
      "cell_type": "code",
      "source": [
        "# Save the model for later use\n",
        "torch.save(model.state_dict(), 'trec_model.pt')"
      ],
      "metadata": {
        "id": "wGbZIkCpLdao"
      },
      "execution_count": 186,
      "outputs": []
    },
    {
      "cell_type": "code",
      "execution_count": 184,
      "metadata": {
        "id": "S_0RSTfBPODK",
        "colab": {
          "base_uri": "https://localhost:8080/",
          "height": 295
        },
        "outputId": "a7cbb238-095e-48fe-b8ab-2747c8b7c79c"
      },
      "outputs": [
        {
          "output_type": "display_data",
          "data": {
            "text/plain": [
              "<Figure size 432x288 with 1 Axes>"
            ],
            "image/png": "[encoded data removed]"
          },
          "metadata": {
            "needs_background": "light"
          }
        }
      ],
      "source": [
        "import matplotlib.pyplot as plt\n",
        "\n",
        "plt.plot(losses, label = \"Train\")\n",
        "plt.plot(losses_val, label = \"Validation\")\n",
        "plt.title(\"Losses of TREC model for 50 epochs\")\n",
        "plt.xlabel(\"epochs\")\n",
        "plt.ylabel(\"loss\")\n",
        "plt.legend()\n",
        "plt.show()"
      ]
    },
    {
      "cell_type": "code",
      "source": [
        "plt.plot(accuracies, label = \"Train\")\n",
        "plt.plot(accuracies_val, label = \"Validation\")\n",
        "plt.title(\"Accuracies of TREC model for 50 epochs\")\n",
        "plt.xlabel(\"epochs\")\n",
        "plt.ylabel(\"accuracy\")\n",
        "plt.legend()\n",
        "plt.show()"
      ],
      "metadata": {
        "colab": {
          "base_uri": "https://localhost:8080/",
          "height": 295
        },
        "id": "iqU_f7_IHigi",
        "outputId": "9cacfb49-49d9-4e0d-90bf-0973d450a098"
      },
      "execution_count": 185,
      "outputs": [
        {
          "output_type": "display_data",
          "data": {
            "text/plain": [
              "<Figure size 432x288 with 1 Axes>"
            ],
            "image/png": "[encoded data removed]"
          },
          "metadata": {
            "needs_background": "light"
          }
        }
      ]
    },
    {
      "cell_type": "code",
      "source": [
        "import spacy\n",
        "nlp = spacy.load(\"en\")\n",
        "\n",
        "def predict_class(model, sentence, min_len = 4):\n",
        "\n",
        "    model.eval()\n",
        "    tokenized = [tok.text for tok in nlp.tokenizer(sentence)]\n",
        "    if len(tokenized) < min_len:\n",
        "        tokenized += ['<pad>'] * (min_len - len(tokenized))\n",
        "\n",
        "    indexed = [text.vocab.stoi[t] for t in tokenized]\n",
        "    tensor = torch.LongTensor(indexed).to(device)\n",
        "    tensor = tensor.unsqueeze(0)\n",
        "    h_t = torch.zeros(num_layers,1, hidden_dim)\n",
        "    c_t = torch.zeros(num_layers,1, hidden_dim)\n",
        "    length = torch.tensor([len(tokenized)], dtype = torch.int64)\n",
        "    preds = model(tensor, (h_t, c_t), length)\n",
        "    max_preds = preds.argmax(dim = 1)\n",
        "\n",
        "    return target.vocab.itos[max_preds.item()]"
      ],
      "metadata": {
        "id": "YpXEX44SLvOH"
      },
      "execution_count": 131,
      "outputs": []
    },
    {
      "cell_type": "code",
      "source": [
        "model.load_state_dict(torch.load('trec_model.pt'))"
      ],
      "metadata": {
        "id": "DFU9D3-2tkU1"
      },
      "execution_count": null,
      "outputs": []
    },
    {
      "cell_type": "code",
      "source": [
        "predict_class(model, \"How much does it cost?\")"
      ],
      "metadata": {
        "colab": {
          "base_uri": "https://localhost:8080/",
          "height": 35
        },
        "id": "pcp2XgDmPzT_",
        "outputId": "42cbdc47-b2f2-4d25-d89d-069648741ab0"
      },
      "execution_count": 187,
      "outputs": [
        {
          "output_type": "execute_result",
          "data": {
            "text/plain": [
              "'NUM'"
            ],
            "application/vnd.google.colaboratory.intrinsic+json": {
              "type": "string"
            }
          },
          "metadata": {},
          "execution_count": 187
        }
      ]
    }
  ],
  "metadata": {
    "kernelspec": {
      "display_name": "Python 3",
      "language": "python",
      "name": "python3"
    },
    "language_info": {
      "codemirror_mode": {
        "name": "ipython",
        "version": 3
      },
      "file_extension": ".py",
      "mimetype": "text/x-python",
      "name": "python",
      "nbconvert_exporter": "python",
      "pygments_lexer": "ipython3",
      "version": "3.7.11"
    },
    "colab": {
      "name": "TREC",
      "provenance": [],
      "collapsed_sections": []
    }
  },
  "nbformat": 4,
  "nbformat_minor": 0
}