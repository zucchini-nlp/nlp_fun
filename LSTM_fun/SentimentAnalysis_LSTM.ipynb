{
  "nbformat": 4,
  "nbformat_minor": 0,
  "metadata": {
    "accelerator": "GPU",
    "colab": {
      "name": "SentimentAnalysis_LSTM",
      "provenance": [],
      "collapsed_sections": []
    },
    "kernelspec": {
      "display_name": "Python 3",
      "name": "python3"
    },
    "language_info": {
      "name": "python"
    }
  },
  "cells": [
    {
      "cell_type": "markdown",
      "metadata": {
        "id": "qF-XR9F6kSRf"
      },
      "source": [
        "# Классификация отзывов на фильмы с помощью LSTM"
      ]
    },
    {
      "cell_type": "code",
      "metadata": {
        "id": "h8PTzNqLiFaT",
        "colab": {
          "base_uri": "https://localhost:8080/"
        },
        "outputId": "cf6d8646-98b2-47f7-b97b-2af7eee348a6"
      },
      "source": [
        "import numpy as np\n",
        "from string import punctuation\n",
        "from collections import Counter\n",
        "import torch\n",
        "from torch.utils.data import TensorDataset, DataLoader\n",
        "import torch.nn as nn\n",
        "from tqdm import tqdm\n",
        "from torchtext.data.utils import get_tokenizer\n",
        "\n",
        "import random\n",
        "random.seed(33)\n",
        "torch.manual_seed(0)"
      ],
      "execution_count": 25,
      "outputs": [
        {
          "output_type": "execute_result",
          "data": {
            "text/plain": [
              "<torch._C.Generator at 0x7f276d905870>"
            ]
          },
          "metadata": {},
          "execution_count": 25
        }
      ]
    },
    {
      "cell_type": "code",
      "metadata": {
        "id": "zNgPcCJRmXXw"
      },
      "source": [
        "# Считываем данные из файлов\n",
        "with open('reviews.txt', 'r') as f:\n",
        "    reviews = f.read()\n",
        "with open('labels.txt', 'r') as f:\n",
        "    labels = f.read()"
      ],
      "execution_count": 9,
      "outputs": []
    },
    {
      "cell_type": "code",
      "metadata": {
        "id": "MzTIG51Xml0p",
        "colab": {
          "base_uri": "https://localhost:8080/"
        },
        "outputId": "9eac5432-3e4e-4999-ad04-a5db1739907d"
      },
      "source": [
        "print(reviews[:100])\n",
        "print(labels[:9])"
      ],
      "execution_count": 10,
      "outputs": [
        {
          "output_type": "stream",
          "name": "stdout",
          "text": [
            "bromwell high is a cartoon comedy . it ran at the same time as some other programs about school life\n",
            "positive\n",
            "\n"
          ]
        }
      ]
    },
    {
      "cell_type": "code",
      "metadata": {
        "id": "8mEZfUaBm05p",
        "colab": {
          "base_uri": "https://localhost:8080/"
        },
        "outputId": "26c23c4d-f751-46ad-c79b-4d97eb642871"
      },
      "source": [
        "tokenizer = get_tokenizer(\"spacy\")\n",
        "\n",
        "def preprocess(text):\n",
        "    text = \"\".join([char for char in text if char not in punctuation])\n",
        "    all_reviews = text.split(\"\\n\")\n",
        "    tok_sents = [tokenizer(sent) for sent in all_reviews]\n",
        "    vocab = [tok for sent in tok_sents for tok in sent]\n",
        "\n",
        "    return all_reviews, vocab\n",
        "\n",
        "all_reviews, vocab = preprocess(reviews)\n",
        "print('Общее число отзывов: ', len(all_reviews))"
      ],
      "execution_count": 29,
      "outputs": [
        {
          "output_type": "stream",
          "name": "stdout",
          "text": [
            "Общее число отзывов:  25001\n"
          ]
        }
      ]
    },
    {
      "cell_type": "code",
      "metadata": {
        "id": "5W0wgcbDqZrJ",
        "colab": {
          "base_uri": "https://localhost:8080/"
        },
        "outputId": "4200167a-93b4-4fd0-9d43-b4840f1679ae"
      },
      "source": [
        "print('Первые 2 отзыва: ', all_reviews[:2])\n",
        "print('Первые 5 слов: ', vocab[:5])"
      ],
      "execution_count": 30,
      "outputs": [
        {
          "output_type": "stream",
          "name": "stdout",
          "text": [
            "Первые 2 отзыва:  ['bromwell high is a cartoon comedy  it ran at the same time as some other programs about school life  such as  teachers   my   years in the teaching profession lead me to believe that bromwell high  s satire is much closer to reality than is  teachers   the scramble to survive financially  the insightful students who can see right through their pathetic teachers  pomp  the pettiness of the whole situation  all remind me of the schools i knew and their students  when i saw the episode in which a student repeatedly tried to burn down the school  i immediately recalled          at           high  a classic line inspector i  m here to sack one of your teachers  student welcome to bromwell high  i expect that many adults of my age think that bromwell high is far fetched  what a pity that it isn  t   ', 'story of a man who has unnatural feelings for a pig  starts out with a opening scene that is a terrific example of absurd comedy  a formal orchestra audience is turned into an insane  violent mob by the crazy chantings of it  s singers  unfortunately it stays absurd the whole time with no general narrative eventually making it just too off putting  even those from the era should be turned off  the cryptic dialogue would make shakespeare seem easy to a third grader  on a technical level it  s better than you might think with some good cinematography by future great vilmos zsigmond  future stars sally kirkland and frederic forrest can be seen briefly   ']\n",
            "Первые 5 слов:  ['bromwell', 'high', 'is', 'a', 'cartoon']\n"
          ]
        }
      ]
    },
    {
      "cell_type": "code",
      "metadata": {
        "id": "ba7QiS8OoFqO",
        "colab": {
          "base_uri": "https://localhost:8080/"
        },
        "outputId": "2b92e606-b08e-4652-e3aa-24e1d735696a"
      },
      "source": [
        "corpus = Counter(vocab)\n",
        "corpus_ = sorted(corpus,key=corpus.get,reverse=True)[20:1000] # min freq of 20 and max_freq of 1000 are considered for further encoding\n",
        "vocab_to_int = {w:idx + 1 for idx, w in enumerate(corpus_)}\n",
        "print('Уникальных слов: ', len(vocab_to_int))\n",
        "\n",
        "encoded_reviews = []\n",
        "for sent in all_reviews:\n",
        "  encoded_reviews.append([vocab_to_int[word] for word in sent.lower().split() \n",
        "                                  if word in vocab_to_int.keys()])\n",
        "print('Пример закодированного ревью: ', encoded_reviews[0])"
      ],
      "execution_count": 31,
      "outputs": [
        {
          "output_type": "stream",
          "name": "stdout",
          "text": [
            "Уникальных слов:  980\n",
            "Пример закодированного ревью:  [294, 192, 15, 156, 40, 33, 65, 27, 368, 94, 124, 43, 140, 462, 54, 245, 294, 58, 599, 57, 19, 32, 49, 189, 129, 50, 207, 871, 14, 54, 672, 50, 37, 202, 369, 45, 769, 165, 368, 15, 294, 335, 327, 125, 111, 13, 113, 294, 515, 93, 43, 530, 86, 294, 212, 31, 200, 6]\n"
          ]
        }
      ]
    },
    {
      "cell_type": "code",
      "metadata": {
        "id": "_MHogJlJphwH",
        "colab": {
          "base_uri": "https://localhost:8080/"
        },
        "outputId": "32da21e3-b0cc-4d6c-ded8-8bb886a5ac29"
      },
      "source": [
        "all_labels = labels.split(\"\\n\")\n",
        "encoded_labels = [1 if label == \"positive\" else 0 for label in all_labels]\n",
        "\n",
        "print('Число отзывов и число лейблов: ', len(all_reviews), len(all_labels))"
      ],
      "execution_count": 32,
      "outputs": [
        {
          "output_type": "stream",
          "name": "stdout",
          "text": [
            "Число отзывов и число лейблов:  25001 25001\n"
          ]
        }
      ]
    },
    {
      "cell_type": "code",
      "metadata": {
        "id": "bJ2jgyXLty7i",
        "colab": {
          "base_uri": "https://localhost:8080/"
        },
        "outputId": "9f7d528c-dcca-4635-b377-aa2fafe31ed7"
      },
      "source": [
        "encoded_labels = np.array( [label for idx, label in enumerate(encoded_labels) if len(encoded_reviews[idx]) > 0] )\n",
        "encoded_reviews = [review for review in encoded_reviews if len(review) > 0]\n",
        "\n",
        "print(len(encoded_labels), len(encoded_reviews))"
      ],
      "execution_count": 33,
      "outputs": [
        {
          "output_type": "stream",
          "name": "stdout",
          "text": [
            "25000 25000\n"
          ]
        }
      ]
    },
    {
      "cell_type": "code",
      "metadata": {
        "id": "kfdaMrHpuvVm"
      },
      "source": [
        "def pad_text(encoded_reviews, seq_length):\n",
        "    reviews = []\n",
        "    for review in encoded_reviews:\n",
        "        if len(review) >= seq_length:\n",
        "            reviews.append(review[:seq_length])\n",
        "        else:\n",
        "            reviews.append([0]*(seq_length-len(review)) + review)\n",
        "        \n",
        "    return np.array(reviews)\n",
        "\n",
        "padded_reviews = pad_text(encoded_reviews, seq_length = 200)"
      ],
      "execution_count": 34,
      "outputs": []
    },
    {
      "cell_type": "code",
      "metadata": {
        "id": "3pWo83d0yZ_g"
      },
      "source": [
        "dataset = TensorDataset(torch.from_numpy(padded_reviews), torch.from_numpy(encoded_labels))"
      ],
      "execution_count": 35,
      "outputs": []
    },
    {
      "cell_type": "code",
      "metadata": {
        "id": "dkyve8fT-kw1",
        "colab": {
          "base_uri": "https://localhost:8080/"
        },
        "outputId": "0118108b-b210-4e69-e304-3671c3d792b9"
      },
      "source": [
        "device = 'cuda' if torch.cuda.is_available() else 'cpu'\n",
        "print(device)"
      ],
      "execution_count": 37,
      "outputs": [
        {
          "output_type": "stream",
          "name": "stdout",
          "text": [
            "cuda\n"
          ]
        }
      ]
    },
    {
      "cell_type": "code",
      "metadata": {
        "id": "ubEzKoIG08MD"
      },
      "source": [
        "batch_size = 128\n",
        "\n",
        "train_set, val_set = torch.utils.data.random_split(dataset, [len(dataset)-5000, 5000])\n",
        "train_loader = DataLoader(train_set, batch_size, shuffle=True)\n",
        "val_loader = DataLoader(val_set, batch_size, shuffle=False)"
      ],
      "execution_count": 48,
      "outputs": []
    },
    {
      "cell_type": "markdown",
      "metadata": {
        "id": "ZY4ydeh82-oR"
      },
      "source": [
        "# Задаем модель"
      ]
    },
    {
      "cell_type": "code",
      "metadata": {
        "id": "zWnQaWNO1roZ"
      },
      "source": [
        "class SentimentRNN(nn.Module):\n",
        "\n",
        "    def __init__(self, vocab_size, embedding_dim, hidden_dim, num_layers, perc):\n",
        "\n",
        "        super(SentimentRNN, self).__init__()\n",
        "        self.hidden_dim = hidden_dim\n",
        "        self.num_layers = num_layers\n",
        "        \n",
        "        self.embedding = nn.Embedding(vocab_size, embedding_dim)\n",
        "        self.lstm = nn.LSTM(embedding_dim, hidden_dim, batch_first=True, num_layers = num_layers, dropout = perc, bidirectional=True)\n",
        "        \n",
        "        self.dropout = nn.Dropout(perc)\n",
        "        self.fc = nn.Linear(hidden_dim * 2, 1)\n",
        "        self.sig = nn.Sigmoid()\n",
        "\n",
        "        \n",
        "    def init_hidden(self, batch_size):\n",
        "        h, c = ((torch.zeros(self.num_layers * 2, batch_size, self.hidden_dim)),\n",
        "                (torch.zeros(self.num_layers * 2, batch_size, self.hidden_dim)))\n",
        "        return h, c\n",
        "\n",
        "    def forward(self, x):\n",
        "\n",
        "        batch_size = x.size(0)\n",
        "        x = x.long()\n",
        "\n",
        "        h_0, c_0 = self.init_hidden(batch_size)\n",
        "        h_0 = h_0.to(device)\n",
        "        c_0 = c_0.to(device)\n",
        "\n",
        "        embeds = self.embedding(x)\n",
        "        lstm_out, (h_t, c_t) = self.lstm(embeds, (h_0, c_0))\n",
        "        out = torch.cat((h_t[-2, :, :], h_t[-1, :, :]), dim=1)\n",
        "        \n",
        "        out = self.dropout(out)\n",
        "        out = self.fc(out)\n",
        "        out = self.sig(out)\n",
        "\n",
        "        return out"
      ],
      "execution_count": 63,
      "outputs": []
    },
    {
      "cell_type": "code",
      "metadata": {
        "id": "-zkZ3o_f-Dkr"
      },
      "source": [
        "vocab_size = len(vocab_to_int) + 1\n",
        "embedding_dim = 50\n",
        "hidden_dim = 256\n",
        "num_layers = 2\n",
        "model = SentimentRNN(vocab_size, embedding_dim, hidden_dim, num_layers, 0.5)\n",
        "model.to(device)\n",
        "\n",
        "lr = 0.001\n",
        "optimizer = torch.optim.Adam(params = model.parameters(), lr = lr)\n",
        "# scheduler = torch.optim.lr_scheduler.StepLR(optimizer, step_size = 5, gamma = 0.1)"
      ],
      "execution_count": 64,
      "outputs": []
    },
    {
      "cell_type": "markdown",
      "metadata": {
        "id": "GUE_lTsB3GlA"
      },
      "source": [
        "# Обучаем"
      ]
    },
    {
      "cell_type": "code",
      "metadata": {
        "id": "OwqBXloc_OnF"
      },
      "source": [
        "def log(mode, epoch, loss, accuracy, best_perf=None):\n",
        "\n",
        "  print(\n",
        "      f\"[{mode}] Epoch: {epoch:0.2f}. \"\n",
        "      f\"Loss: {loss:.2f}. \"\n",
        "      f\"Accuracy: {100*accuracy:.2f}% \", end=\"\\n\")\n",
        "\n",
        "  if best_perf:\n",
        "      print(f\"[best: {best_perf:0.2f}]%\", end=\"\")"
      ],
      "execution_count": 68,
      "outputs": []
    },
    {
      "cell_type": "code",
      "metadata": {
        "id": "BQ9bjT-mzzuT"
      },
      "source": [
        "def accuracy(outputs, labels):\n",
        "    preds = torch.round(outputs.squeeze())\n",
        "    return torch.tensor(torch.sum(preds == labels).item() / len(preds))"
      ],
      "execution_count": 41,
      "outputs": []
    },
    {
      "cell_type": "code",
      "metadata": {
        "id": "cF5N9tzm1mO1"
      },
      "source": [
        "def trainval(model, train, val, optimizer, epochs=5):\n",
        "\n",
        "  loss_meter = {'training': [], 'validation': []}\n",
        "  accuracy_meter = {'training': [], 'validation': []}\n",
        "\n",
        "  for epoch in range(epochs):\n",
        "\n",
        "      epoch_loss = 0\n",
        "      epoch_acc = 0\n",
        "      epoch_loss_val = 0\n",
        "      epoch_acc_val = 0\n",
        "     \n",
        "      model.train()\n",
        "      for texts, labels in train:\n",
        "          texts = texts.to(device)\n",
        "          labels = labels.to(device) \n",
        "\n",
        "          preds = model(texts)\n",
        "          loss = nn.BCELoss()(preds.squeeze(), labels.float())\n",
        "          epoch_loss += loss.item()\n",
        "\n",
        "          optimizer.zero_grad()\n",
        "          loss.backward() \n",
        "          nn.utils.clip_grad_norm_(model.parameters(), 5)\n",
        "          optimizer.step() \n",
        "                  \n",
        "          epoch_acc += accuracy(preds, labels)\n",
        "      # scheduler.step()\n",
        "\n",
        "      loss_meter[\"training\"].append(epoch_loss/len(train))\n",
        "      accuracy_meter[\"training\"].append(epoch_acc/len(train))\n",
        "      log(\"Training\", epoch+1, epoch_loss/len(train), epoch_acc/len(train))\n",
        "\n",
        "      with torch.no_grad():\n",
        "            model.eval()\n",
        "            for texts_val, labels_val in val:\n",
        "                texts_val = texts_val.to(device)\n",
        "                labels_val = labels_val.to(device) \n",
        "\n",
        "                preds = model(texts_val)\n",
        "                loss = nn.BCELoss()(preds.squeeze(), labels_val.float())\n",
        "                epoch_loss_val += loss.item()\n",
        "                epoch_acc_val += accuracy(preds, labels_val) \n",
        "      \n",
        "      \n",
        "      loss_meter[\"validation\"].append(epoch_loss_val/len(val))\n",
        "      accuracy_meter[\"validation\"].append(epoch_acc_val/len(val))\n",
        "      log(\"Validation\", epoch+1, epoch_loss_val/len(val), epoch_acc_val/len(val))\n",
        "\n",
        "  return loss_meter, accuracy_meter"
      ],
      "execution_count": 76,
      "outputs": []
    },
    {
      "cell_type": "code",
      "metadata": {
        "id": "k2IGCyQJ9Rc_",
        "colab": {
          "base_uri": "https://localhost:8080/",
          "height": 1000
        },
        "outputId": "2c909106-322a-412e-e966-54bd8f7cb246"
      },
      "source": [
        "# Oops, forgot to change \"loss_track\" to \"loss_meter\" while training\n",
        "# I'll leave it like this for now, later will come back and train again to plot the losses\n",
        "loss_meter, accuracy_meter = trainval(model, train_loader, val_loader, optimizer, epochs=40)"
      ],
      "execution_count": 77,
      "outputs": [
        {
          "output_type": "stream",
          "name": "stdout",
          "text": [
            "[Training] Epoch: 1.00. Loss: 0.46. Accuracy: 78.90% \n",
            "[Validation] Epoch: 1.00. Loss: 0.52. Accuracy: 73.65% \n",
            "[Training] Epoch: 2.00. Loss: 0.43. Accuracy: 80.74% \n",
            "[Validation] Epoch: 2.00. Loss: 0.56. Accuracy: 78.40% \n",
            "[Training] Epoch: 3.00. Loss: 0.40. Accuracy: 82.67% \n",
            "[Validation] Epoch: 3.00. Loss: 0.41. Accuracy: 82.36% \n",
            "[Training] Epoch: 4.00. Loss: 0.36. Accuracy: 84.67% \n",
            "[Validation] Epoch: 4.00. Loss: 0.38. Accuracy: 82.58% \n",
            "[Training] Epoch: 5.00. Loss: 0.33. Accuracy: 85.90% \n",
            "[Validation] Epoch: 5.00. Loss: 0.35. Accuracy: 84.63% \n",
            "[Training] Epoch: 6.00. Loss: 0.33. Accuracy: 86.13% \n",
            "[Validation] Epoch: 6.00. Loss: 0.36. Accuracy: 84.57% \n",
            "[Training] Epoch: 7.00. Loss: 0.30. Accuracy: 87.76% \n",
            "[Validation] Epoch: 7.00. Loss: 0.37. Accuracy: 83.38% \n",
            "[Training] Epoch: 8.00. Loss: 0.28. Accuracy: 88.33% \n",
            "[Validation] Epoch: 8.00. Loss: 0.36. Accuracy: 84.86% \n",
            "[Training] Epoch: 9.00. Loss: 0.26. Accuracy: 89.41% \n",
            "[Validation] Epoch: 9.00. Loss: 0.37. Accuracy: 85.18% \n",
            "[Training] Epoch: 10.00. Loss: 0.24. Accuracy: 90.55% \n",
            "[Validation] Epoch: 10.00. Loss: 0.36. Accuracy: 85.00% \n",
            "[Training] Epoch: 11.00. Loss: 0.27. Accuracy: 88.61% \n",
            "[Validation] Epoch: 11.00. Loss: 0.37. Accuracy: 84.92% \n",
            "[Training] Epoch: 12.00. Loss: 0.20. Accuracy: 92.25% \n",
            "[Validation] Epoch: 12.00. Loss: 0.41. Accuracy: 85.33% \n",
            "[Training] Epoch: 13.00. Loss: 0.16. Accuracy: 93.98% \n",
            "[Validation] Epoch: 13.00. Loss: 0.43. Accuracy: 84.30% \n",
            "[Training] Epoch: 14.00. Loss: 0.13. Accuracy: 95.21% \n",
            "[Validation] Epoch: 14.00. Loss: 0.47. Accuracy: 84.67% \n",
            "[Training] Epoch: 15.00. Loss: 0.11. Accuracy: 95.95% \n",
            "[Validation] Epoch: 15.00. Loss: 0.58. Accuracy: 84.86% \n",
            "[Training] Epoch: 16.00. Loss: 0.08. Accuracy: 97.12% \n",
            "[Validation] Epoch: 16.00. Loss: 0.59. Accuracy: 83.69% \n",
            "[Training] Epoch: 17.00. Loss: 0.07. Accuracy: 97.51% \n",
            "[Validation] Epoch: 17.00. Loss: 0.68. Accuracy: 84.18% \n",
            "[Training] Epoch: 18.00. Loss: 0.07. Accuracy: 97.72% \n",
            "[Validation] Epoch: 18.00. Loss: 0.63. Accuracy: 83.18% \n",
            "[Training] Epoch: 19.00. Loss: 0.05. Accuracy: 98.42% \n",
            "[Validation] Epoch: 19.00. Loss: 0.74. Accuracy: 84.43% \n",
            "[Training] Epoch: 20.00. Loss: 0.05. Accuracy: 98.20% \n",
            "[Validation] Epoch: 20.00. Loss: 0.67. Accuracy: 84.41% \n",
            "[Training] Epoch: 21.00. Loss: 0.04. Accuracy: 98.86% \n",
            "[Validation] Epoch: 21.00. Loss: 0.71. Accuracy: 84.80% \n",
            "[Training] Epoch: 22.00. Loss: 0.04. Accuracy: 98.80% \n",
            "[Validation] Epoch: 22.00. Loss: 0.78. Accuracy: 84.00% \n",
            "[Training] Epoch: 23.00. Loss: 0.03. Accuracy: 99.05% \n",
            "[Validation] Epoch: 23.00. Loss: 0.76. Accuracy: 84.34% \n",
            "[Training] Epoch: 24.00. Loss: 0.02. Accuracy: 99.19% \n",
            "[Validation] Epoch: 24.00. Loss: 0.80. Accuracy: 84.12% \n",
            "[Training] Epoch: 25.00. Loss: 0.02. Accuracy: 99.44% \n",
            "[Validation] Epoch: 25.00. Loss: 0.89. Accuracy: 84.02% \n",
            "[Training] Epoch: 26.00. Loss: 0.03. Accuracy: 99.00% \n",
            "[Validation] Epoch: 26.00. Loss: 0.82. Accuracy: 83.87% \n",
            "[Training] Epoch: 27.00. Loss: 0.02. Accuracy: 99.43% \n",
            "[Validation] Epoch: 27.00. Loss: 0.90. Accuracy: 84.06% \n",
            "[Training] Epoch: 28.00. Loss: 0.02. Accuracy: 99.32% \n",
            "[Validation] Epoch: 28.00. Loss: 0.90. Accuracy: 84.14% \n",
            "[Training] Epoch: 29.00. Loss: 0.02. Accuracy: 99.47% \n",
            "[Validation] Epoch: 29.00. Loss: 0.96. Accuracy: 83.95% \n",
            "[Training] Epoch: 30.00. Loss: 0.02. Accuracy: 99.49% \n",
            "[Validation] Epoch: 30.00. Loss: 0.91. Accuracy: 83.30% \n",
            "[Training] Epoch: 31.00. Loss: 0.02. Accuracy: 99.48% \n",
            "[Validation] Epoch: 31.00. Loss: 1.02. Accuracy: 84.14% \n",
            "[Training] Epoch: 32.00. Loss: 0.01. Accuracy: 99.74% \n",
            "[Validation] Epoch: 32.00. Loss: 1.16. Accuracy: 84.10% \n",
            "[Training] Epoch: 33.00. Loss: 0.02. Accuracy: 99.46% \n",
            "[Validation] Epoch: 33.00. Loss: 1.02. Accuracy: 83.96% \n",
            "[Training] Epoch: 34.00. Loss: 0.01. Accuracy: 99.61% \n",
            "[Validation] Epoch: 34.00. Loss: 1.00. Accuracy: 84.12% \n",
            "[Training] Epoch: 35.00. Loss: 0.01. Accuracy: 99.54% \n",
            "[Validation] Epoch: 35.00. Loss: 1.02. Accuracy: 84.06% \n",
            "[Training] Epoch: 36.00. Loss: 0.01. Accuracy: 99.53% \n",
            "[Validation] Epoch: 36.00. Loss: 0.99. Accuracy: 84.53% \n",
            "[Training] Epoch: 37.00. Loss: 0.02. Accuracy: 99.43% \n",
            "[Validation] Epoch: 37.00. Loss: 1.01. Accuracy: 84.30% \n",
            "[Training] Epoch: 38.00. Loss: 0.01. Accuracy: 99.60% \n",
            "[Validation] Epoch: 38.00. Loss: 1.06. Accuracy: 84.20% \n",
            "[Training] Epoch: 39.00. Loss: 0.02. Accuracy: 99.53% \n",
            "[Validation] Epoch: 39.00. Loss: 1.00. Accuracy: 84.49% \n",
            "[Training] Epoch: 40.00. Loss: 0.01. Accuracy: 99.85% \n",
            "[Validation] Epoch: 40.00. Loss: 1.16. Accuracy: 83.83% \n"
          ]
        },
        {
          "output_type": "error",
          "ename": "NameError",
          "evalue": "ignored",
          "traceback": [
            "\u001b[0;31m---------------------------------------------------------------------------\u001b[0m",
            "\u001b[0;31mNameError\u001b[0m                                 Traceback (most recent call last)",
            "\u001b[0;32m<ipython-input-77-75d131a1c82f>\u001b[0m in \u001b[0;36m<module>\u001b[0;34m()\u001b[0m\n\u001b[0;32m----> 1\u001b[0;31m \u001b[0mloss_track\u001b[0m\u001b[0;34m,\u001b[0m \u001b[0maccuracy_track\u001b[0m \u001b[0;34m=\u001b[0m \u001b[0mtrainval\u001b[0m\u001b[0;34m(\u001b[0m\u001b[0mmodel\u001b[0m\u001b[0;34m,\u001b[0m \u001b[0mtrain_loader\u001b[0m\u001b[0;34m,\u001b[0m \u001b[0mval_loader\u001b[0m\u001b[0;34m,\u001b[0m \u001b[0moptimizer\u001b[0m\u001b[0;34m,\u001b[0m \u001b[0mepochs\u001b[0m\u001b[0;34m=\u001b[0m\u001b[0;36m40\u001b[0m\u001b[0;34m)\u001b[0m\u001b[0;34m\u001b[0m\u001b[0;34m\u001b[0m\u001b[0m\n\u001b[0m",
            "\u001b[0;32m<ipython-input-76-983288a52594>\u001b[0m in \u001b[0;36mtrainval\u001b[0;34m(model, train, val, optimizer, epochs)\u001b[0m\n\u001b[1;32m     48\u001b[0m       \u001b[0mlog\u001b[0m\u001b[0;34m(\u001b[0m\u001b[0;34m\"Validation\"\u001b[0m\u001b[0;34m,\u001b[0m \u001b[0mepoch\u001b[0m\u001b[0;34m+\u001b[0m\u001b[0;36m1\u001b[0m\u001b[0;34m,\u001b[0m \u001b[0mepoch_loss_val\u001b[0m\u001b[0;34m/\u001b[0m\u001b[0mlen\u001b[0m\u001b[0;34m(\u001b[0m\u001b[0mval\u001b[0m\u001b[0;34m)\u001b[0m\u001b[0;34m,\u001b[0m \u001b[0mepoch_acc_val\u001b[0m\u001b[0;34m/\u001b[0m\u001b[0mlen\u001b[0m\u001b[0;34m(\u001b[0m\u001b[0mval\u001b[0m\u001b[0;34m)\u001b[0m\u001b[0;34m)\u001b[0m\u001b[0;34m\u001b[0m\u001b[0;34m\u001b[0m\u001b[0m\n\u001b[1;32m     49\u001b[0m \u001b[0;34m\u001b[0m\u001b[0m\n\u001b[0;32m---> 50\u001b[0;31m   \u001b[0;32mreturn\u001b[0m \u001b[0mloss_track\u001b[0m\u001b[0;34m,\u001b[0m \u001b[0maccuracy_track\u001b[0m\u001b[0;34m\u001b[0m\u001b[0;34m\u001b[0m\u001b[0m\n\u001b[0m",
            "\u001b[0;31mNameError\u001b[0m: name 'loss_track' is not defined"
          ]
        }
      ]
    },
    {
      "cell_type": "code",
      "source": [
        "torch.save(model.state_dict, \"lstm.pt\")"
      ],
      "metadata": {
        "id": "Vr9FSXutGKeu"
      },
      "execution_count": 78,
      "outputs": []
    },
    {
      "cell_type": "markdown",
      "metadata": {
        "id": "ivqKZ-YB5hxf"
      },
      "source": [
        "# Смотрим результаты"
      ]
    },
    {
      "cell_type": "code",
      "metadata": {
        "id": "uRxLVjA8A8rE"
      },
      "source": [
        "from matplotlib import pyplot as plt\n",
        "%matplotlib inline\n",
        "plt.plot(accuracy_meter['training'], label='train')\n",
        "plt.plot(accuracy_meter['validation'], label='val')\n",
        "plt.ylabel('accuracy')\n",
        "plt.xlabel('epoch')\n",
        "plt.grid()\n",
        "plt.legend()"
      ],
      "execution_count": 80,
      "outputs": []
    },
    {
      "cell_type": "code",
      "metadata": {
        "id": "wOxpEHpsBPkM"
      },
      "source": [
        "plt.plot(loss_meter['training'], label='train')\n",
        "plt.plot(loss_meter['validation'], label='val')\n",
        "plt.ylabel('loss')\n",
        "plt.xlabel('epoch')\n",
        "plt.grid()\n",
        "plt.legend()"
      ],
      "execution_count": 80,
      "outputs": []
    },
    {
      "cell_type": "code",
      "metadata": {
        "id": "TOa2RzMYZ-VH",
        "colab": {
          "base_uri": "https://localhost:8080/"
        },
        "outputId": "a125cbc2-7661-45cd-9708-462938ee41a9"
      },
      "source": [
        "def predict(model, review, seq_length = 200):\n",
        "    print(review)\n",
        "    device = \"cuda\" if torch.cuda.is_available() else \"cpu\"\n",
        "    \n",
        "    _, words = preprocess(review.lower())\n",
        "    encoded_words = [vocab_to_int[word] for word in words if word in vocab_to_int.keys()]\n",
        "    padded_words = pad_text([encoded_words], seq_length)\n",
        "    padded_words = torch.from_numpy(padded_words).to(device)\n",
        "    bs=1\n",
        "    model.eval()\n",
        "    output = model(padded_words)\n",
        "    pred = torch.round(output.squeeze())\n",
        "    out = \"This is a positive review.\" if pred == 1 else \"This is a negative review.\"\n",
        "    print(out, '\\n')\n",
        "\n",
        "\n",
        "review1 = \"Twin Peaks is a very good film to watch with a family. Even five year old child will understand David Lynch masterpiece\"\n",
        "review2 = \"It made me cry\"\n",
        "review3 = \"It made me cry - I never seen such an awful acting before\"\n",
        "review4 = \"Vulgarity. Ringing vulgarity\"\n",
        "review5 = \"Garbage\"\n",
        "\n",
        "predict(model, review1)  \n",
        "predict(model, review2) \n",
        "predict(model, review3)\n",
        "predict(model, review4)\n",
        "predict(model, review5)"
      ],
      "execution_count": 81,
      "outputs": [
        {
          "output_type": "stream",
          "name": "stdout",
          "text": [
            "Twin Peaks is a very good film to watch with a family. Even five year old child will understand David Lynch masterpiece\n",
            "This is a positive review. \n",
            "\n",
            "It made me cry\n",
            "This is a positive review. \n",
            "\n",
            "It made me cry - I never seen such an awful acting before\n",
            "This is a negative review. \n",
            "\n",
            "Vulgarity. Ringing vulgarity\n",
            "This is a negative review. \n",
            "\n",
            "Garbage\n",
            "This is a negative review. \n",
            "\n"
          ]
        }
      ]
    }
  ]
}