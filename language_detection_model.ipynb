{
 "cells": [
  {
   "cell_type": "markdown",
   "id": "6d6c52b5",
   "metadata": {},
   "source": [
    "### This is a simple language detection model with sklearn"
   ]
  },
  {
   "cell_type": "markdown",
   "id": "551abf92",
   "metadata": {},
   "source": [
    "First we import all the neccessary libraries, import the csv file and take a look at the data"
   ]
  },
  {
   "cell_type": "code",
   "execution_count": 240,
   "id": "0f89c823",
   "metadata": {},
   "outputs": [],
   "source": [
    "import numpy as np\n",
    "from sklearn.model_selection import train_test_split\n",
    "from sklearn.naive_bayes import MultinomialNB\n",
    "from sklearn.linear_model import SGDClassifier\n",
    "from sklearn.pipeline import Pipeline\n",
    "import pandas as pd\n",
    "from sklearn.metrics import confusion_matrix, classification_report, ConfusionMatrixDisplay\n",
    "from sklearn.preprocessing import LabelEncoder\n",
    "from sklearn.feature_extraction.text import CountVectorizer, TfidfVectorizer\n",
    "from sklearn.calibration import CalibratedClassifierCV"
   ]
  },
  {
   "cell_type": "code",
   "execution_count": 2,
   "id": "19768ad0",
   "metadata": {},
   "outputs": [
    {
     "data": {
      "text/html": [
       "<div>\n",
       "<style scoped>\n",
       "    .dataframe tbody tr th:only-of-type {\n",
       "        vertical-align: middle;\n",
       "    }\n",
       "\n",
       "    .dataframe tbody tr th {\n",
       "        vertical-align: top;\n",
       "    }\n",
       "\n",
       "    .dataframe thead th {\n",
       "        text-align: right;\n",
       "    }\n",
       "</style>\n",
       "<table border=\"1\" class=\"dataframe\">\n",
       "  <thead>\n",
       "    <tr style=\"text-align: right;\">\n",
       "      <th></th>\n",
       "      <th>text</th>\n",
       "      <th>language</th>\n",
       "    </tr>\n",
       "  </thead>\n",
       "  <tbody>\n",
       "    <tr>\n",
       "      <th>0</th>\n",
       "      <td>ich denke es handelt sich hier um ein missvers...</td>\n",
       "      <td>german</td>\n",
       "    </tr>\n",
       "    <tr>\n",
       "      <th>1</th>\n",
       "      <td>ich habe tom gerade erst verlassen</td>\n",
       "      <td>german</td>\n",
       "    </tr>\n",
       "    <tr>\n",
       "      <th>2</th>\n",
       "      <td>tom versuchte mary nur zu ärgern</td>\n",
       "      <td>german</td>\n",
       "    </tr>\n",
       "    <tr>\n",
       "      <th>3</th>\n",
       "      <td>tom hat mir die hand geküsst</td>\n",
       "      <td>german</td>\n",
       "    </tr>\n",
       "    <tr>\n",
       "      <th>4</th>\n",
       "      <td>ich wusste dass dir das gefiele</td>\n",
       "      <td>german</td>\n",
       "    </tr>\n",
       "  </tbody>\n",
       "</table>\n",
       "</div>"
      ],
      "text/plain": [
       "                                                text language\n",
       "0  ich denke es handelt sich hier um ein missvers...   german\n",
       "1                 ich habe tom gerade erst verlassen   german\n",
       "2                   tom versuchte mary nur zu ärgern   german\n",
       "3                       tom hat mir die hand geküsst   german\n",
       "4                    ich wusste dass dir das gefiele   german"
      ]
     },
     "execution_count": 2,
     "metadata": {},
     "output_type": "execute_result"
    }
   ],
   "source": [
    "data = pd.read_csv(\"languages.csv\")\n",
    "data.head()"
   ]
  },
  {
   "cell_type": "code",
   "execution_count": 157,
   "id": "dec23e3a",
   "metadata": {
    "scrolled": false
   },
   "outputs": [
    {
     "data": {
      "text/plain": [
       "english    275687\n",
       "german     199618\n",
       "french     169693\n",
       "spanish    118686\n",
       "Name: language, dtype: int64"
      ]
     },
     "execution_count": 157,
     "metadata": {},
     "output_type": "execute_result"
    }
   ],
   "source": [
    "data.language.value_counts()"
   ]
  },
  {
   "cell_type": "code",
   "execution_count": 158,
   "id": "bb13a71b",
   "metadata": {},
   "outputs": [
    {
     "data": {
      "text/plain": [
       "text        0\n",
       "language    0\n",
       "dtype: int64"
      ]
     },
     "execution_count": 158,
     "metadata": {},
     "output_type": "execute_result"
    }
   ],
   "source": [
    "data.isna().sum()"
   ]
  },
  {
   "cell_type": "code",
   "execution_count": 159,
   "id": "75b58327",
   "metadata": {},
   "outputs": [],
   "source": [
    "plt_y = list(data.language.value_counts())\n",
    "plt_x = list(set(data.language.values))"
   ]
  },
  {
   "cell_type": "code",
   "execution_count": 160,
   "id": "a55d6794",
   "metadata": {
    "scrolled": true
   },
   "outputs": [
    {
     "data": {
      "text/plain": [
       "<BarContainer object of 4 artists>"
      ]
     },
     "execution_count": 160,
     "metadata": {},
     "output_type": "execute_result"
    },
    {
     "data": {
      "image/png": "[encoded data removed]",
      "text/plain": [
       "<Figure size 432x288 with 1 Axes>"
      ]
     },
     "metadata": {
      "needs_background": "light"
     },
     "output_type": "display_data"
    }
   ],
   "source": [
    "plt.bar(plt_x, plt_y)"
   ]
  },
  {
   "cell_type": "code",
   "execution_count": 3,
   "id": "82a9e8d0",
   "metadata": {},
   "outputs": [],
   "source": [
    "## Shuffle the rows since a quick look at the table head lets us see that languages are strictly separated, \n",
    "## which is no good for the model\n",
    "\n",
    "shuffled_data = data.sample(frac=1).reset_index(drop = True)\n",
    "X_raw = shuffled_data[\"text\"]\n",
    "y_raw = shuffled_data[\"language\"]"
   ]
  },
  {
   "cell_type": "code",
   "execution_count": 162,
   "id": "694b11e2",
   "metadata": {
    "scrolled": true
   },
   "outputs": [
    {
     "name": "stdout",
     "output_type": "stream",
     "text": [
      "(763684,)\n",
      "(763684,)\n"
     ]
    }
   ],
   "source": [
    "print(X_raw.shape)\n",
    "print(y_raw.shape)"
   ]
  },
  {
   "cell_type": "markdown",
   "id": "f3e31be8",
   "metadata": {},
   "source": [
    "There are 4 different languages present in the table - english, german, spanish adn french. The data is not uniformaly distributed with french texts being 2.5 times less than for english. For now I do not see it as a problem, so I will leave it as is and separate the data to X (features) and y(target).\n",
    "\n",
    "As the data comes in textual format, I will need to use a CountVectorizer to transform the text to bag-of-words dictionary. For target 4 language I will use LabelEncoder to transform. "
   ]
  },
  {
   "cell_type": "code",
   "execution_count": 4,
   "id": "11923a33",
   "metadata": {},
   "outputs": [],
   "source": [
    "le = LabelEncoder()\n",
    "y = le.fit_transform(y_raw)"
   ]
  },
  {
   "cell_type": "code",
   "execution_count": 5,
   "id": "4a7d1924",
   "metadata": {},
   "outputs": [],
   "source": [
    "cv = CountVectorizer()\n",
    "X = cv.fit_transform(X_raw)"
   ]
  },
  {
   "cell_type": "code",
   "execution_count": 246,
   "id": "ed7bc805",
   "metadata": {},
   "outputs": [],
   "source": [
    "X_train, X_test, y_train, y_test = train_test_split(X, y, test_size = 0.2, random_state = 1)"
   ]
  },
  {
   "cell_type": "markdown",
   "id": "5e615589",
   "metadata": {},
   "source": [
    "Now I initiate a Multinomial Bayes for classification, no hyperparameters are set at this point"
   ]
  },
  {
   "cell_type": "code",
   "execution_count": 247,
   "id": "b412d475",
   "metadata": {},
   "outputs": [],
   "source": [
    "# clf = MultinomialNB()\n",
    "clf = CalibratedClassifierCV(MultinomialNB(), cv=3)"
   ]
  },
  {
   "cell_type": "code",
   "execution_count": 248,
   "id": "8ec7f3dd",
   "metadata": {},
   "outputs": [
    {
     "data": {
      "text/plain": [
       "CalibratedClassifierCV(base_estimator=MultinomialNB(), cv=3)"
      ]
     },
     "execution_count": 248,
     "metadata": {},
     "output_type": "execute_result"
    }
   ],
   "source": [
    "clf.fit(X_train, y_train)"
   ]
  },
  {
   "cell_type": "code",
   "execution_count": 249,
   "id": "aa1f0e3d",
   "metadata": {},
   "outputs": [
    {
     "data": {
      "text/plain": [
       "0.9990113724899664"
      ]
     },
     "execution_count": 249,
     "metadata": {},
     "output_type": "execute_result"
    }
   ],
   "source": [
    "clf.score(X_test, y_test)"
   ]
  },
  {
   "cell_type": "code",
   "execution_count": 269,
   "id": "b4b669d7",
   "metadata": {
    "scrolled": true
   },
   "outputs": [
    {
     "data": {
      "text/plain": [
       "<sklearn.metrics._plot.confusion_matrix.ConfusionMatrixDisplay at 0x26348e3ef40>"
      ]
     },
     "execution_count": 269,
     "metadata": {},
     "output_type": "execute_result"
    },
    {
     "data": {
      "image/png": "[encoded data removed]",
      "text/plain": [
       "<Figure size 432x288 with 2 Axes>"
      ]
     },
     "metadata": {
      "needs_background": "light"
     },
     "output_type": "display_data"
    }
   ],
   "source": [
    "ConfusionMatrixDisplay((confusion_matrix(clf.predict(X_test), y_test)), display_labels=le.inverse_transform(clf.classes_)).plot()"
   ]
  },
  {
   "cell_type": "markdown",
   "id": "180f89db",
   "metadata": {},
   "source": [
    "The accuracy of the model is quite good and most of the predictions lie in the diagonal of the confusion matrix. Let us try o predict a few sentences in 4 languages and check how the model predict sentences with foregn borrowed words."
   ]
  },
  {
   "cell_type": "code",
   "execution_count": 59,
   "id": "ebf1a207",
   "metadata": {},
   "outputs": [
    {
     "name": "stdout",
     "output_type": "stream",
     "text": [
      "I will have pasta and pizza for dinner                  -    English with confidence 99.91%\n",
      "Te hago un forward con toda la info                     -    Spanish with confidence 99.95%\n",
      "Puis-je accéder à Internet avec Skype Zones             -     French with confidence 99.94%\n",
      "Ich muß nach England telefonieren                       -     German with confidence 99.91%\n",
      "Voy del aeropuerto al hospital                          -    Spanish with confidence 99.95%\n",
      "He has already called the doctor                        -    English with confidence 99.91%\n",
      "Juan no viene al restaurante hoy                        -    Spanish with confidence 99.95%\n",
      "Ci vediamo nel weekend                                  -     French with confidence 83.17%\n",
      "Facciamo una call conference in remote meeting su skype -    English with confidence 99.90%\n",
      "Espresso or cappuccino? I can't choose                  -    English with confidence 99.91%\n"
     ]
    }
   ],
   "source": [
    "phrases = [\"I will have pasta and pizza for dinner\", \n",
    "           \"Te hago un forward con toda la info\",\n",
    "           \"Puis-je accéder à Internet avec Skype Zones\",\n",
    "           \"Ich muß nach England telefonieren\",\n",
    "           \"Voy del aeropuerto al hospital\",\n",
    "           \"He has already called the doctor\", \n",
    "           \"Juan no viene al restaurante hoy\",\n",
    "           \"Ci vediamo nel weekend\", \n",
    "           \"Facciamo una call conference in remote meeting su skype\",\n",
    "           \"Espresso or cappuccino? I can't choose\"]\n",
    "\n",
    "for phrase in phrases:\n",
    "    pred_array = clf.predict(cv.transform([phrase]))\n",
    "    pred = le.inverse_transform(pred_array)\n",
    "    pred_proba = clf.predict_proba(cv.transform([phrase]))\n",
    "    ix = pred_proba.argmax(1)[0]\n",
    "    print(\"{:55} - {:>10} with confidence {:.2%}\".format(phrase, pred[0].title(), pred_proba[0,ix]))"
   ]
  },
  {
   "cell_type": "markdown",
   "id": "f6122f27",
   "metadata": {},
   "source": [
    "The model is doing good on sentences with foreign borrowed words.\n",
    "\n",
    "Now I will use a char bigram CountVectorized to preprocess the text, i.e. a word like \"apple\" will be transformed into following char bigrams \"ap\", \"pp\", \"pl\" and \"le\". My guess is that this method will be more accurate as the model learns to spot two-char clusters, instead of the whole word. In other words, the model is taught by internal structure (phonotactics) of the language rather than by the words present in the training set, which implies that it will have higher accuracy even with small training sets"
   ]
  },
  {
   "cell_type": "code",
   "execution_count": 251,
   "id": "e9e8d50a",
   "metadata": {},
   "outputs": [],
   "source": [
    "cv_char = CountVectorizer(analyzer = 'char_wb', ngram_range=(2,4))\n",
    "X_char = cv_char.fit_transform(X_raw)"
   ]
  },
  {
   "cell_type": "code",
   "execution_count": 252,
   "id": "f648179c",
   "metadata": {},
   "outputs": [],
   "source": [
    "X_train_char, X_test_char, y_train_char, y_test_char = train_test_split(X_char, y, test_size = 0.2, random_state = 1)"
   ]
  },
  {
   "cell_type": "code",
   "execution_count": 253,
   "id": "aab1f81f",
   "metadata": {},
   "outputs": [],
   "source": [
    "# another_clf = MultinomialNB()\n",
    "another_clf = SGDClassifier(loss = \"log\", alpha = 1e-05, random_state=1)"
   ]
  },
  {
   "cell_type": "code",
   "execution_count": 254,
   "id": "19ee58e4",
   "metadata": {},
   "outputs": [
    {
     "data": {
      "text/plain": [
       "SGDClassifier(alpha=1e-05, loss='log', random_state=1)"
      ]
     },
     "execution_count": 254,
     "metadata": {},
     "output_type": "execute_result"
    }
   ],
   "source": [
    "another_clf.fit(X_train_char, y_train_char)"
   ]
  },
  {
   "cell_type": "code",
   "execution_count": 255,
   "id": "d6778d97",
   "metadata": {},
   "outputs": [],
   "source": [
    "y_pred_char = another_clf.predict(X_test_char)"
   ]
  },
  {
   "cell_type": "code",
   "execution_count": 256,
   "id": "1ea75a48",
   "metadata": {
    "scrolled": true
   },
   "outputs": [
    {
     "data": {
      "text/plain": [
       "0.9994565822295842"
      ]
     },
     "execution_count": 256,
     "metadata": {},
     "output_type": "execute_result"
    }
   ],
   "source": [
    "accuracy_score(y_test_char, y_pred_char)"
   ]
  },
  {
   "cell_type": "code",
   "execution_count": 268,
   "id": "c82e4961",
   "metadata": {},
   "outputs": [
    {
     "data": {
      "text/plain": [
       "<sklearn.metrics._plot.confusion_matrix.ConfusionMatrixDisplay at 0x26348e9cc70>"
      ]
     },
     "execution_count": 268,
     "metadata": {},
     "output_type": "execute_result"
    },
    {
     "data": {
      "image/png": "[encoded data removed]",
      "text/plain": [
       "<Figure size 432x288 with 2 Axes>"
      ]
     },
     "metadata": {
      "needs_background": "light"
     },
     "output_type": "display_data"
    }
   ],
   "source": [
    "ConfusionMatrixDisplay((confusion_matrix(y_test, y_pred_char)), display_labels=le.inverse_transform(another_clf.classes_)).plot()"
   ]
  },
  {
   "cell_type": "code",
   "execution_count": 258,
   "id": "c515e38d",
   "metadata": {},
   "outputs": [
    {
     "name": "stdout",
     "output_type": "stream",
     "text": [
      "              precision    recall  f1-score   support\n",
      "\n",
      "           0       1.00      1.00      1.00     55258\n",
      "           1       1.00      1.00      1.00     34104\n",
      "           2       1.00      1.00      1.00     39727\n",
      "           3       1.00      1.00      1.00     23648\n",
      "\n",
      "    accuracy                           1.00    152737\n",
      "   macro avg       1.00      1.00      1.00    152737\n",
      "weighted avg       1.00      1.00      1.00    152737\n",
      "\n"
     ]
    }
   ],
   "source": [
    "print(classification_report(y_test_char, y_pred_char))"
   ]
  },
  {
   "cell_type": "markdown",
   "id": "09a5d865",
   "metadata": {},
   "source": [
    "Let us use again the sentences above to predict tha language"
   ]
  },
  {
   "cell_type": "code",
   "execution_count": 69,
   "id": "403ebbdb",
   "metadata": {},
   "outputs": [
    {
     "name": "stdout",
     "output_type": "stream",
     "text": [
      "I will have pasta and pizza for dinner                  -    English with confidence 100.00%\n",
      "Te hago un forward con toda la info                     -    Spanish with confidence 99.99%\n",
      "Puis-je accéder à Internet avec Skype Zones             -     French with confidence 99.97%\n",
      "Ich muß nach England telefonieren                       -     German with confidence 99.99%\n",
      "Voy del aeropuerto al hospital                          -    Spanish with confidence 99.96%\n",
      "He has already called the doctor                        -    English with confidence 100.00%\n",
      "Juan no viene al restaurante hoy                        -    Spanish with confidence 99.99%\n",
      "Ci vediamo nel weekend                                  -    English with confidence 74.09%\n",
      "Facciamo una call conference in remote meeting su skype -    English with confidence 71.14%\n",
      "Espresso or cappuccino? I can't choose                  -    English with confidence 99.23%\n"
     ]
    }
   ],
   "source": [
    "phrases = [\"I will have pasta and pizza for dinner\", \n",
    "           \"Te hago un forward con toda la info\",\n",
    "           \"Puis-je accéder à Internet avec Skype Zones\",\n",
    "           \"Ich muß nach England telefonieren\",\n",
    "           \"Voy del aeropuerto al hospital\",\n",
    "           \"He has already called the doctor\", \n",
    "           \"Juan no viene al restaurante hoy\",\n",
    "           \"Ci vediamo nel weekend\",\n",
    "           \"Facciamo una call conference in remote meeting su skype\",\n",
    "           \"Espresso or cappuccino? I can't choose\"]\n",
    "\n",
    "for phrase in phrases:\n",
    "    pred_array = another_clf.predict(cv_char.transform([phrase]))\n",
    "    pred = le.inverse_transform(pred_array)\n",
    "    pred_proba = another_clf.predict_proba(cv_char.transform([phrase]))\n",
    "    ix = pred_proba.argmax(1)[0]\n",
    "    print(\"{:55} - {:>10} with confidence {:.2%}\".format(phrase, pred[0].title(), pred_proba[0,ix]))"
   ]
  },
  {
   "cell_type": "markdown",
   "id": "adad2863",
   "metadata": {},
   "source": [
    "This model seems to be more prone to errors when a sentence has forign words present. "
   ]
  }
 ],
 "metadata": {
  "kernelspec": {
   "display_name": "Python 3",
   "language": "python",
   "name": "python3"
  },
  "language_info": {
   "codemirror_mode": {
    "name": "ipython",
    "version": 3
   },
   "file_extension": ".py",
   "mimetype": "text/x-python",
   "name": "python",
   "nbconvert_exporter": "python",
   "pygments_lexer": "ipython3",
   "version": "3.8.8"
  }
 },
 "nbformat": 4,
 "nbformat_minor": 5
}
